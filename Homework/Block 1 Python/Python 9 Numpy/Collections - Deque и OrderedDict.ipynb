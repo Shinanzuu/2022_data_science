{
 "cells": [
  {
   "cell_type": "markdown",
   "metadata": {},
   "source": [
    "## ORDEREDDICT\n",
    "В далёкие времена (а точнее, до 2018 года) словари в Python не сохраняли порядок ключей, которые в них добавляли. Попробуйте в Codeboard создать несколько раз словарь с одними и теми же ключами и значениями и напечатать его:"
   ]
  },
  {
   "cell_type": "code",
   "execution_count": 2,
   "metadata": {},
   "outputs": [
    {
     "name": "stdout",
     "output_type": "stream",
     "text": [
      "{'Ivan': 19, 'Mark': 25, 'Andrey': 23, 'Maria': 20}\n"
     ]
    }
   ],
   "source": [
    "# Напоминаем способ создания словаря через список кортежей\n",
    "# (ключ, значение)\n",
    "data = [('Ivan', 19),('Mark', 25),('Andrey', 23),('Maria', 20)]\n",
    "client_ages = dict(data)\n",
    "print(client_ages)"
   ]
  },
  {
   "cell_type": "markdown",
   "metadata": {},
   "source": [
    "Как видите, каждый раз при повторном запуске кода порядок элементов меняется. Изначально объект dict не гарантировал выдачу ключей и значений в порядке их добавления."
   ]
  },
  {
   "cell_type": "code",
   "execution_count": 3,
   "metadata": {},
   "outputs": [
    {
     "name": "stdout",
     "output_type": "stream",
     "text": [
      "OrderedDict([('Ivan', 19), ('Mark', 25), ('Andrey', 23), ('Maria', 20)])\n"
     ]
    }
   ],
   "source": [
    "from collections import OrderedDict\n",
    "data = [('Ivan', 19),('Mark', 25),('Andrey', 23),('Maria', 20)]\n",
    "ordered_client_ages = OrderedDict(data) # включаем сортировку\n",
    "print(ordered_client_ages)"
   ]
  },
  {
   "cell_type": "markdown",
   "metadata": {},
   "source": [
    "⭐ Хорошие новости! Начиная с версии Python 3.7, гарантируется сохранение ключей в том порядке, в котором они добавлялись в словарь. Однако вам следует помнить о том, что в более старых версиях Python порядок ключей не сохраняется. Это важно для обратной совместимости, то есть для корректной работы программы со старыми версиями интерпретатора. Например, если требуется, чтобы код работал и с версиями Python старше 3.7, и в нём используется очерёдность ключей в словаре, необходимо создавать OrderedDict вместо dict."
   ]
  },
  {
   "cell_type": "markdown",
   "metadata": {},
   "source": [
    "## DEQUE\n",
    "Вы уже умеете использовать такую упорядоченную структуру данных, как список. Существуют и другие упорядоченные структуры данных. В данном случае речь пойдёт про очереди и рюкзаки (стеки). Они применяются при решении некоторых задач (в том числе довольно сложных), поэтому иметь представление об этих объектах очень важно. Также про стеки и очереди вас могут спросить на собеседовании, поскольку знание этих объектов показывает общую IT-грамотность специалиста.\n",
    "\n",
    "Очередь — это упорядоченный тип данных, который обладает двумя ключевыми функциями: добавление элемента в конец очереди и извлечение самого первого элемента из очереди. То есть очередь подразумевает, что тот элемент, который первым добавлен в очередь, будет первым потом и обработан. Всё как в обычной очереди! Этот принцип сокращённо также называется FIFO (от англ. First In — First Out, «первым пришёл — первым ушёл»).\n",
    "\n",
    "Очереди часто используются на серверах для обработки поступающих на них задач. Например, программист запускает для вычисления задачу, которая занимает все вычислительные возможности сервера. Новые задачи не могут быть запущены в обработку сразу, поэтому вынуждены находиться в очереди: когда на сервер поступает новая задача, с помощью обязательной для очереди функции «добавить в очередь» задача добавляется в конец очереди.\n",
    "\n",
    "Когда сервер освободится от задачи, будет запущена функция «извлечь из очереди», и сервер запустит в обработку следующую по очереди задачу. При этом та задача, которая была добавлена в очередь самой первой, будет и обработана самой первой, то есть «в порядке очереди».\n",
    "\n",
    "Наконец, существует структура данных deque (читается как «дек», англ. double-ended queue — двухконцевая очередь). Она объединяет в себе возможности и стека, и очереди: содержит функции, которые позволяют добавлять элементы в начало или в конец очереди, а также извлекать первый или последний элемент из неё. \n",
    "\n",
    "В Python deque уже реализован, и им можно пользоваться для решения задач, для которых требуется как стек, так и очередь. При этом вы как разработчик уже самостоятельно решаете, каким именно функционалом из deque вы будете пользоваться для решения вашей задачи: либо вы будете обрабатывать элементы в порядке очереди, либо будете добавлять и извлекать элементы с помощью функций для стека. Также можно добавлять и извлекать данные с обеих доступных сторон: нельзя указать, что вы собираетесь использовать deque  только как стек или очередь.\n",
    "\n",
    "Можно сказать, что стек и очередь — это принципы обработки данных. deque позволяет обрабатывать данные обоими способами в зависимости от того, что требуется от разработчика. В каком порядке обрабатывать данные (FIFO или LIFO) вам подскажет собственная логика или более продвинутая теория алгоритмов, которая в данном модуле не изучается."
   ]
  },
  {
   "cell_type": "code",
   "execution_count": 4,
   "metadata": {},
   "outputs": [
    {
     "name": "stdout",
     "output_type": "stream",
     "text": [
      "deque([])\n"
     ]
    }
   ],
   "source": [
    "from collections import deque\n",
    "dq = deque()\n",
    "print(dq)"
   ]
  },
  {
   "cell_type": "markdown",
   "metadata": {},
   "source": [
    "У deque есть четыре ключевые функции:\n",
    "\n",
    "* append (добавить элемент в конец дека);\n",
    "* appendleft (добавить элемент в начало дека);\n",
    "* pop (удалить и вернуть элемент из конца дека);\n",
    "* popleft (удалить и вернуть элемент из начала дека)."
   ]
  },
  {
   "cell_type": "code",
   "execution_count": 5,
   "metadata": {},
   "outputs": [
    {
     "name": "stdout",
     "output_type": "stream",
     "text": [
      "deque(['Ivanov', 'Petrov', 'Smirnov', 'Tikhonova'])\n"
     ]
    }
   ],
   "source": [
    "clients = deque()\n",
    "clients.append('Ivanov')\n",
    "clients.append('Petrov')\n",
    "clients.append('Smirnov')\n",
    "clients.append('Tikhonova')\n",
    "print(clients)"
   ]
  },
  {
   "cell_type": "code",
   "execution_count": 6,
   "metadata": {},
   "outputs": [
    {
     "name": "stdout",
     "output_type": "stream",
     "text": [
      "First client: Ivanov\n",
      "Second client: Petrov\n",
      "deque(['Smirnov', 'Tikhonova'])\n"
     ]
    }
   ],
   "source": [
    "first_client = clients.popleft() # Освободилось два оператора — заберём двоих человек из начала очереди с помощью popleft:\n",
    "second_client = clients.popleft()\n",
    " \n",
    "print(\"First client:\", first_client)\n",
    "print(\"Second client:\", second_client)\n",
    "print(clients)"
   ]
  },
  {
   "cell_type": "markdown",
   "metadata": {},
   "source": [
    "Как видите, первые элементы исчезли из очереди. Функции pop и popleft возвращают тот элемент, который они удаляют (последний или первый соответственно).\n",
    "\n",
    "Вдруг появился VIP-клиент. Для него тоже нет свободного оператора, но добавить его нужно в начало очереди с помощью appendleft:"
   ]
  },
  {
   "cell_type": "code",
   "execution_count": 7,
   "metadata": {},
   "outputs": [
    {
     "name": "stdout",
     "output_type": "stream",
     "text": [
      "deque(['Vip-client', 'Smirnov', 'Tikhonova'])\n"
     ]
    }
   ],
   "source": [
    "clients.appendleft('Vip-client')\n",
    " \n",
    "print(clients)"
   ]
  },
  {
   "cell_type": "code",
   "execution_count": 8,
   "metadata": {},
   "outputs": [
    {
     "name": "stdout",
     "output_type": "stream",
     "text": [
      "Tikhonova left the queue\n",
      "deque(['Vip-client', 'Smirnov'])\n"
     ]
    }
   ],
   "source": [
    "tired_client = clients.pop() # С помощью pop всегда удаляется последний элемент из дэка.\n",
    "print(tired_client, \"left the queue\") # Чтобы удалить конкретный элемент по индексу, необходимо воспользоваться встроенной конструкцией del:\n",
    "print(clients)"
   ]
  },
  {
   "cell_type": "markdown",
   "metadata": {},
   "source": [
    "Также в очередь возможно добавить сразу несколько элементов из итерируемого объекта в дек. Для этого используют функции extend (добавить в конец дека) и extendleft (добавить в начало дека)."
   ]
  },
  {
   "cell_type": "code",
   "execution_count": 9,
   "metadata": {},
   "outputs": [
    {
     "name": "stdout",
     "output_type": "stream",
     "text": [
      "deque([1, 2, 3, 4, 5])\n",
      "deque([1, 2, 3, 4, 5, 11, 12, 13, 14, 15, 16, 17])\n"
     ]
    }
   ],
   "source": [
    "# В скобках передаём список при создании deque,\n",
    "# чтобы сразу добавить все его элементы в очередь\n",
    "shop = deque([1, 2, 3, 4, 5])\n",
    "print(shop)\n",
    "# deque([1, 2, 3, 4, 5])\n",
    "shop.extend([11, 12, 13, 14, 15, 16, 17])\n",
    "print(shop)"
   ]
  },
  {
   "cell_type": "markdown",
   "metadata": {},
   "source": [
    "## ОЧЕРЕДЬ С ОГРАНИЧЕННОЙ МАКСИМАЛЬНОЙ ДЛИНОЙ\n",
    "При создании очереди можно также указать её максимальную длину с помощью параметра maxlen. Сделать это можно как при создании пустой очереди, так и при создании очереди от заданного итерируемого объекта:"
   ]
  },
  {
   "cell_type": "code",
   "execution_count": 10,
   "metadata": {},
   "outputs": [
    {
     "name": "stdout",
     "output_type": "stream",
     "text": [
      "deque([], maxlen=3)\n",
      "deque([5, 6, 7], maxlen=3)\n"
     ]
    }
   ],
   "source": [
    "limited = deque(maxlen=3)\n",
    "print(limited)\n",
    "# deque([], maxlen=3)\n",
    " \n",
    "limited_from_list = deque([1,3,4,5,6,7], maxlen=3)\n",
    "print(limited_from_list)\n",
    "# deque([5, 6, 7], maxlen=3)"
   ]
  },
  {
   "cell_type": "markdown",
   "metadata": {},
   "source": [
    "Обратите внимание, что теперь дополнительно печатается максимальная длина очереди.\n",
    "\n",
    "Также заметьте, что в очереди с ограниченной длиной сохраняются только последние элементы, а первые исчезают из памяти:"
   ]
  },
  {
   "cell_type": "markdown",
   "metadata": {},
   "source": [
    "Для чего может пригодиться такая возможность?\n",
    "\n",
    "Например, необходимость в таком инструменте возникает, когда за один раз необходимо обрабатывать строго фиксированное число элементов. Особенно это актуально для анализа динамики какого-то значения во времени."
   ]
  },
  {
   "cell_type": "code",
   "execution_count": 11,
   "metadata": {},
   "outputs": [],
   "source": [
    "temps = [20.6, 19.4, 19.0, 19.0, 22.1,\n",
    "        22.5, 22.8, 24.1, 25.6, 27.0,\n",
    "        27.0, 25.6, 26.8, 27.3, 22.5,\n",
    "        25.4, 24.4, 23.7, 23.6, 22.6,\n",
    "        20.4, 17.9, 17.3, 17.3, 18.1,\n",
    "        20.1, 22.2, 19.8, 21.3, 21.3,\n",
    "        21.9]"
   ]
  },
  {
   "cell_type": "code",
   "execution_count": 12,
   "metadata": {},
   "outputs": [
    {
     "name": "stdout",
     "output_type": "stream",
     "text": [
      "20.77; 21.27; 22.16; 23.3; 24.44; 24.94; 25.56; 26.2; 25.97; 25.94; 25.57; 25.1; 24.81; 24.21; 23.23; 22.57; 21.41; 20.4; 19.6; 19.1; 19.04; 18.96; 19.44; 20.01; 20.67; \n"
     ]
    }
   ],
   "source": [
    "days = deque(maxlen=7)\n",
    " \n",
    "for temp in temps:\n",
    "    # Добавляем температуру в очередь\n",
    "    days.append(temp)\n",
    "    # Если длина очереди оказалась равной максимальной длине очереди (7),\n",
    "    # печатаем среднюю температуру за последние 7 дней\n",
    "    if len(days) == days.maxlen:\n",
    "        print(round(sum(days) / len(days), 2), end='; ')\n",
    "# Напечатаем пустую строку, чтобы завершить действие параметра\n",
    "# end. Иначе следующая строка окажется напечатанной на предыдущей\n",
    "print(\"\")"
   ]
  },
  {
   "cell_type": "markdown",
   "metadata": {},
   "source": [
    "## ДОПОЛНИТЕЛЬНЫЕ ФУНКЦИИ\n",
    "\n",
    "Вы уже узнали основные функции append, pop и extend (а также их собратьев для аналогичных действий с левого конца дека). Теперь рассмотрим дополнительные функции, которые позволяют совершать действия с очередью.\n",
    "\n",
    "* reverse позволяет поменять порядок элементов в очереди на обратный:\n",
    "dq = deque([1,2,3,4,5])\n",
    "print(dq)\n",
    " \n",
    "dq.reverse()\n",
    "print(dq)\n",
    "* rotate переносит  заданных элементов из конца очереди в начало:\n",
    "dq = deque([1,2,3,4,5])\n",
    "print(dq)\n",
    " \n",
    "dq.rotate(2)\n",
    "print(dq)\n",
    "* Элементы можно переносить и из начала в конец:\n",
    "dq = deque([1,2,3,4,5])\n",
    "print(dq)\n",
    " \n",
    " Отрицательное значение аргумента переносит\n",
    " n элементов из начала в конец\n",
    "dq.rotate(-2)\n",
    "print(dq)"
   ]
  },
  {
   "cell_type": "markdown",
   "metadata": {},
   "source": [
    "## Проверочная работа - задание 4.4-4.8"
   ]
  },
  {
   "cell_type": "code",
   "execution_count": null,
   "metadata": {},
   "outputs": [],
   "source": [
    "from hidden import north, center, south\n",
    "from collections import Counter\n",
    "# Пишите здесь команды, которые помогут\n",
    "# найти ответы на вопросы\n",
    "all_m = north, center, south\n",
    "m_north = north\n",
    "m_center = center\n",
    "m_south = south\n",
    "list_m_north = [elem for l in m_north for elem in l]\n",
    "list_m_center = [elem for l in m_center for elem in l]\n",
    "list_m_south = [elem for l in m_south for elem in l]\n",
    "# print(len(list_m_north))\n",
    "# print(len(list_m_center))\n",
    "# print(len(list_m_south))\n",
    "list_m_north=[]\n",
    "for bill in north:\n",
    "    for elem in bill:\n",
    "        list_m_north.append(elem)\n",
    "\n",
    "list_m_center=[]\n",
    "for bill in center:\n",
    "    for elem in bill:\n",
    "        list_m_center.append(elem)\n",
    "\n",
    "list_m_south=[]\n",
    "for bill in south:\n",
    "    for elem in bill:\n",
    "        list_m_south.append(elem)\n",
    "\n",
    "n = Counter(list_m_north)\n",
    "c = Counter(list_m_center)\n",
    "s = Counter(list_m_south)\n",
    "\n",
    "sum_all = n + c + s\n",
    "\n",
    "print(sum_all)"
   ]
  }
 ],
 "metadata": {
  "interpreter": {
   "hash": "ac8980d38340bf74f6c8b15e3909aee514b7d31ec0b5fccdd9151297ca63a1ff"
  },
  "kernelspec": {
   "display_name": "Python 3.8.10 64-bit",
   "language": "python",
   "name": "python3"
  },
  "language_info": {
   "codemirror_mode": {
    "name": "ipython",
    "version": 3
   },
   "file_extension": ".py",
   "mimetype": "text/x-python",
   "name": "python",
   "nbconvert_exporter": "python",
   "pygments_lexer": "ipython3",
   "version": "3.8.10"
  },
  "orig_nbformat": 4
 },
 "nbformat": 4,
 "nbformat_minor": 2
}
