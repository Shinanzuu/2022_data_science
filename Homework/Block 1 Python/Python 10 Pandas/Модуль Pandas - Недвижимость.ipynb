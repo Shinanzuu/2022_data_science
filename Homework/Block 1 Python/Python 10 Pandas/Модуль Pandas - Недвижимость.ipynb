{
 "cells": [
  {
   "cell_type": "markdown",
   "metadata": {},
   "source": [
    "index — номер строки\n",
    "Suburb — наименование пригорода\n",
    "Address — адрес\n",
    "Rooms — количество комнат в помещении\n",
    "Type — тип здания (h — дом, коттедж, вилла, терраса; u — блочный, дуплексный дом; t — таунхаус)\n",
    "Price — цена помещения\n",
    "Method — метод продажи \n",
    "SellerG — риэлторская компания\n",
    "Date — дата продажи (в формате день/месяц/год)\n",
    "Distance — расстояния до объекта от центра Мельбурна \n",
    "Postcode — почтовый индекс\n",
    "Bedroom — количество спален\n",
    "Bathroom — количество ванных комнат\n",
    "Car — количество парковочных мест\n",
    "Landsize — площадь прилегающей территории\n",
    "BuildingArea — площадь здания\n",
    "YearBuilt — год постройки\n",
    "CouncilArea — региональное управление\n",
    "Lattitude — географическая широта\n",
    "Longitude — географическая долгота\n",
    "Regionname — наименование района Мельбурна\n",
    "Propertycount — количество объектов недвижимости в районе\n",
    "Coordinates — широта и долгота, объединённые в кортеж"
   ]
  },
  {
   "cell_type": "code",
   "execution_count": 37,
   "metadata": {},
   "outputs": [],
   "source": [
    "import pandas as pd\n",
    "\n",
    "melb_data = pd.read_csv('data/melb_data.csv', sep=',')"
   ]
  },
  {
   "cell_type": "code",
   "execution_count": 39,
   "metadata": {},
   "outputs": [
    {
     "data": {
      "text/plain": [
       "1310000.0"
      ]
     },
     "execution_count": 39,
     "metadata": {},
     "output_type": "execute_result"
    }
   ],
   "source": [
    "melb_data.loc[15, 'Price']"
   ]
  },
  {
   "cell_type": "code",
   "execution_count": 40,
   "metadata": {},
   "outputs": [
    {
     "data": {
      "text/plain": [
       "'10/09/2016'"
      ]
     },
     "execution_count": 40,
     "metadata": {},
     "output_type": "execute_result"
    }
   ],
   "source": [
    "melb_data.loc[90, 'Date']"
   ]
  },
  {
   "cell_type": "code",
   "execution_count": 42,
   "metadata": {},
   "outputs": [],
   "source": [
    "a = melb_data.loc[3521, 'Landsize']\n",
    "b = melb_data.loc[1690, 'Landsize']\n",
    "c = a/b"
   ]
  },
  {
   "cell_type": "code",
   "execution_count": 44,
   "metadata": {},
   "outputs": [
    {
     "data": {
      "text/plain": [
       "3"
      ]
     },
     "metadata": {},
     "output_type": "display_data"
    }
   ],
   "source": [
    "display(round(c))"
   ]
  }
 ],
 "metadata": {
  "interpreter": {
   "hash": "ac8980d38340bf74f6c8b15e3909aee514b7d31ec0b5fccdd9151297ca63a1ff"
  },
  "kernelspec": {
   "display_name": "Python 3.8.10 64-bit",
   "language": "python",
   "name": "python3"
  },
  "language_info": {
   "codemirror_mode": {
    "name": "ipython",
    "version": 3
   },
   "file_extension": ".py",
   "mimetype": "text/x-python",
   "name": "python",
   "nbconvert_exporter": "python",
   "pygments_lexer": "ipython3",
   "version": "3.8.10"
  },
  "orig_nbformat": 4
 },
 "nbformat": 4,
 "nbformat_minor": 2
}
